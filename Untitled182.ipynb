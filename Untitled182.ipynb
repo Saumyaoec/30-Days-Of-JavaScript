{
  "nbformat": 4,
  "nbformat_minor": 0,
  "metadata": {
    "colab": {
      "provenance": [],
      "authorship_tag": "ABX9TyM5s+UisnjmBA/Vk/EHEM9I",
      "include_colab_link": true
    },
    "kernelspec": {
      "name": "python3",
      "display_name": "Python 3"
    },
    "language_info": {
      "name": "python"
    }
  },
  "cells": [
    {
      "cell_type": "markdown",
      "metadata": {
        "id": "view-in-github",
        "colab_type": "text"
      },
      "source": [
        "<a href=\"https://colab.research.google.com/github/Saumyaoec/30-Days-Of-JavaScript/blob/master/Untitled182.ipynb\" target=\"_parent\"><img src=\"https://colab.research.google.com/assets/colab-badge.svg\" alt=\"Open In Colab\"/></a>"
      ]
    },
    {
      "cell_type": "markdown",
      "source": [
        "Turn1 Model A"
      ],
      "metadata": {
        "id": "kB-PY0skuBZI"
      }
    },
    {
      "cell_type": "code",
      "execution_count": null,
      "metadata": {
        "colab": {
          "base_uri": "https://localhost:8080/",
          "height": 1000
        },
        "id": "_bJJbokIteym",
        "outputId": "2ca471a7-5ad9-4e6b-d807-ba59ee3c7753"
      },
      "outputs": [
        {
          "output_type": "stream",
          "name": "stdout",
          "text": [
            "Collecting dash\n",
            "  Downloading dash-2.18.1-py3-none-any.whl.metadata (10 kB)\n",
            "Requirement already satisfied: Flask<3.1,>=1.0.4 in /usr/local/lib/python3.10/dist-packages (from dash) (2.2.5)\n",
            "Requirement already satisfied: Werkzeug<3.1 in /usr/local/lib/python3.10/dist-packages (from dash) (3.0.4)\n",
            "Requirement already satisfied: plotly>=5.0.0 in /usr/local/lib/python3.10/dist-packages (from dash) (5.24.1)\n",
            "Collecting dash-html-components==2.0.0 (from dash)\n",
            "  Downloading dash_html_components-2.0.0-py3-none-any.whl.metadata (3.8 kB)\n",
            "Collecting dash-core-components==2.0.0 (from dash)\n",
            "  Downloading dash_core_components-2.0.0-py3-none-any.whl.metadata (2.9 kB)\n",
            "Collecting dash-table==5.0.0 (from dash)\n",
            "  Downloading dash_table-5.0.0-py3-none-any.whl.metadata (2.4 kB)\n",
            "Requirement already satisfied: importlib-metadata in /usr/local/lib/python3.10/dist-packages (from dash) (8.4.0)\n",
            "Requirement already satisfied: typing-extensions>=4.1.1 in /usr/local/lib/python3.10/dist-packages (from dash) (4.12.2)\n",
            "Requirement already satisfied: requests in /usr/local/lib/python3.10/dist-packages (from dash) (2.32.3)\n",
            "Collecting retrying (from dash)\n",
            "  Downloading retrying-1.3.4-py3-none-any.whl.metadata (6.9 kB)\n",
            "Requirement already satisfied: nest-asyncio in /usr/local/lib/python3.10/dist-packages (from dash) (1.6.0)\n",
            "Requirement already satisfied: setuptools in /usr/local/lib/python3.10/dist-packages (from dash) (71.0.4)\n",
            "Requirement already satisfied: Jinja2>=3.0 in /usr/local/lib/python3.10/dist-packages (from Flask<3.1,>=1.0.4->dash) (3.1.4)\n",
            "Requirement already satisfied: itsdangerous>=2.0 in /usr/local/lib/python3.10/dist-packages (from Flask<3.1,>=1.0.4->dash) (2.2.0)\n",
            "Requirement already satisfied: click>=8.0 in /usr/local/lib/python3.10/dist-packages (from Flask<3.1,>=1.0.4->dash) (8.1.7)\n",
            "Requirement already satisfied: tenacity>=6.2.0 in /usr/local/lib/python3.10/dist-packages (from plotly>=5.0.0->dash) (9.0.0)\n",
            "Requirement already satisfied: packaging in /usr/local/lib/python3.10/dist-packages (from plotly>=5.0.0->dash) (24.1)\n",
            "Requirement already satisfied: MarkupSafe>=2.1.1 in /usr/local/lib/python3.10/dist-packages (from Werkzeug<3.1->dash) (2.1.5)\n",
            "Requirement already satisfied: zipp>=0.5 in /usr/local/lib/python3.10/dist-packages (from importlib-metadata->dash) (3.20.2)\n",
            "Requirement already satisfied: charset-normalizer<4,>=2 in /usr/local/lib/python3.10/dist-packages (from requests->dash) (3.3.2)\n",
            "Requirement already satisfied: idna<4,>=2.5 in /usr/local/lib/python3.10/dist-packages (from requests->dash) (3.10)\n",
            "Requirement already satisfied: urllib3<3,>=1.21.1 in /usr/local/lib/python3.10/dist-packages (from requests->dash) (2.2.3)\n",
            "Requirement already satisfied: certifi>=2017.4.17 in /usr/local/lib/python3.10/dist-packages (from requests->dash) (2024.8.30)\n",
            "Requirement already satisfied: six>=1.7.0 in /usr/local/lib/python3.10/dist-packages (from retrying->dash) (1.16.0)\n",
            "Downloading dash-2.18.1-py3-none-any.whl (7.5 MB)\n",
            "\u001b[2K   \u001b[90m━━━━━━━━━━━━━━━━━━━━━━━━━━━━━━━━━━━━━━━━\u001b[0m \u001b[32m7.5/7.5 MB\u001b[0m \u001b[31m29.6 MB/s\u001b[0m eta \u001b[36m0:00:00\u001b[0m\n",
            "\u001b[?25hDownloading dash_core_components-2.0.0-py3-none-any.whl (3.8 kB)\n",
            "Downloading dash_html_components-2.0.0-py3-none-any.whl (4.1 kB)\n",
            "Downloading dash_table-5.0.0-py3-none-any.whl (3.9 kB)\n",
            "Downloading retrying-1.3.4-py3-none-any.whl (11 kB)\n",
            "Installing collected packages: dash-table, dash-html-components, dash-core-components, retrying, dash\n",
            "Successfully installed dash-2.18.1 dash-core-components-2.0.0 dash-html-components-2.0.0 dash-table-5.0.0 retrying-1.3.4\n",
            "Requirement already satisfied: plotly in /usr/local/lib/python3.10/dist-packages (5.24.1)\n",
            "Requirement already satisfied: tenacity>=6.2.0 in /usr/local/lib/python3.10/dist-packages (from plotly) (9.0.0)\n",
            "Requirement already satisfied: packaging in /usr/local/lib/python3.10/dist-packages (from plotly) (24.1)\n",
            "Collecting faker\n",
            "  Downloading Faker-30.3.0-py3-none-any.whl.metadata (15 kB)\n",
            "Requirement already satisfied: python-dateutil>=2.4 in /usr/local/lib/python3.10/dist-packages (from faker) (2.8.2)\n",
            "Requirement already satisfied: typing-extensions in /usr/local/lib/python3.10/dist-packages (from faker) (4.12.2)\n",
            "Requirement already satisfied: six>=1.5 in /usr/local/lib/python3.10/dist-packages (from python-dateutil>=2.4->faker) (1.16.0)\n",
            "Downloading Faker-30.3.0-py3-none-any.whl (1.8 MB)\n",
            "\u001b[2K   \u001b[90m━━━━━━━━━━━━━━━━━━━━━━━━━━━━━━━━━━━━━━━━\u001b[0m \u001b[32m1.8/1.8 MB\u001b[0m \u001b[31m37.1 MB/s\u001b[0m eta \u001b[36m0:00:00\u001b[0m\n",
            "\u001b[?25hInstalling collected packages: faker\n",
            "Successfully installed faker-30.3.0\n"
          ]
        },
        {
          "output_type": "stream",
          "name": "stderr",
          "text": [
            "<ipython-input-1-2cb6694485f0>:8: UserWarning: \n",
            "The dash_core_components package is deprecated. Please replace\n",
            "`import dash_core_components as dcc` with `from dash import dcc`\n",
            "  import dash_core_components as doc\n",
            "<ipython-input-1-2cb6694485f0>:9: UserWarning: \n",
            "The dash_html_components package is deprecated. Please replace\n",
            "`import dash_html_components as html` with `from dash import html`\n",
            "  import dash_html_components as html\n"
          ]
        },
        {
          "output_type": "error",
          "ename": "NameError",
          "evalue": "name 'dcc' is not defined",
          "traceback": [
            "\u001b[0;31m---------------------------------------------------------------------------\u001b[0m",
            "\u001b[0;31mNameError\u001b[0m                                 Traceback (most recent call last)",
            "\u001b[0;32m<ipython-input-1-2cb6694485f0>\u001b[0m in \u001b[0;36m<cell line: 34>\u001b[0;34m()\u001b[0m\n\u001b[1;32m     35\u001b[0m     \u001b[0mhtml\u001b[0m\u001b[0;34m.\u001b[0m\u001b[0mH1\u001b[0m\u001b[0;34m(\u001b[0m\u001b[0mchildren\u001b[0m\u001b[0;34m=\u001b[0m\u001b[0;34m'Financial Analytics Dashboard'\u001b[0m\u001b[0;34m)\u001b[0m\u001b[0;34m,\u001b[0m\u001b[0;34m\u001b[0m\u001b[0;34m\u001b[0m\u001b[0m\n\u001b[1;32m     36\u001b[0m \u001b[0;34m\u001b[0m\u001b[0m\n\u001b[0;32m---> 37\u001b[0;31m     \u001b[0mdcc\u001b[0m\u001b[0;34m.\u001b[0m\u001b[0mGraph\u001b[0m\u001b[0;34m(\u001b[0m\u001b[0mid\u001b[0m\u001b[0;34m=\u001b[0m\u001b[0;34m'transaction-amount-graph'\u001b[0m\u001b[0;34m)\u001b[0m\u001b[0;34m,\u001b[0m\u001b[0;34m\u001b[0m\u001b[0;34m\u001b[0m\u001b[0m\n\u001b[0m\u001b[1;32m     38\u001b[0m \u001b[0;34m\u001b[0m\u001b[0m\n\u001b[1;32m     39\u001b[0m     dcc.Dropdown(\n",
            "\u001b[0;31mNameError\u001b[0m: name 'dcc' is not defined"
          ]
        }
      ],
      "source": [
        "!pip install dash\n",
        "!pip install plotly\n",
        "!pip install faker\n",
        "import pandas as pd\n",
        "import plotly.express as px\n",
        "import plotly.graph_objects as go\n",
        "import dash\n",
        "import dash_core_components as doc\n",
        "import dash_html_components as html\n",
        "from dash.dependencies import Input, Output\n",
        "import numpy as np\n",
        "from faker import Faker\n",
        "\n",
        "# Mock data generation with pseudonymized information\n",
        "fake = Faker()\n",
        "np.random.seed(0)\n",
        "\n",
        "data_size = 100\n",
        "mock_data = {\n",
        "    'Pseudonymized_Customer_ID': [fake.random_int(min=1000, max=9999) for _ in range(data_size)],\n",
        "    'Transaction_Amount': np.random.randint(10, 1000, size=data_size),\n",
        "    'Transaction_Date': pd.date_range(start='2023-01-01', periods=data_size, freq='D').tolist(),\n",
        "    'Category': np.random.choice(['Groceries', 'Electronics', 'Clothing', 'Transportation'], size=data_size),\n",
        "}\n",
        "\n",
        "df = pd.DataFrame(mock_data)\n",
        "\n",
        "# Data Minimization: Remove unnecessary columns\n",
        "df = df[['Pseudonymized_Customer_ID', 'Transaction_Amount', 'Transaction_Date', 'Category']]\n",
        "\n",
        "\n",
        "app = dash.Dash(__name__)\n",
        "\n",
        "app.layout = html.Div(children=[\n",
        "    html.H1(children='Financial Analytics Dashboard'),\n",
        "\n",
        "    dcc.Graph(id='transaction-amount-graph'),\n",
        "\n",
        "    dcc.Dropdown(\n",
        "        id='category-dropdown',\n",
        "        options=[{'label': i, 'value': i} for i in df['Category'].unique()],\n",
        "        value='Groceries'\n",
        "    )\n",
        "])\n",
        "\n",
        "@app.callback(\n",
        "    Output('transaction-amount-graph', 'figure'),\n",
        "    [Input('category-dropdown', 'value')]\n",
        ")\n",
        "def update_graph(selected_category):\n",
        "\tfiltered_df = df[df['Category'] == selected_category]\n",
        "\n",
        "\tfig = px.bar(filtered_df, x='Transaction_Date', y='Transaction_Amount',\n",
        "\t\t\t\t hover_data=['Pseudonymized_Customer_ID'],\n",
        "\t\t\t\t title=f\"Transaction Amount by Date for {selected_category}\")\n",
        "\n",
        "\tfig.update_traces(marker_color='rgb(0, 128, 0)', marker_line_color='rgb(8, 48, 107)',\n",
        "\t\t\t\t\t  marker_line_width=1.5, opacity=0.6)\n",
        "\n",
        "\treturn fig\n",
        "\n",
        "if __name__ == '__main__':\n",
        "    app.run_server(debug=True)"
      ]
    },
    {
      "cell_type": "markdown",
      "source": [
        "Turn1 Model B"
      ],
      "metadata": {
        "id": "RZcFmhsbuFPl"
      }
    },
    {
      "cell_type": "code",
      "source": [
        "import pandas as pd\n",
        "import numpy as np\n",
        "import plotly.express as px\n",
        "import dash\n",
        "from dash import dcc\n",
        "from dash import html\n",
        "from dash.dependencies import Input, Output\n",
        "\n",
        "# Dummy data for demonstration purposes (replace this with actual anonymized data)\n",
        "np.random.seed(0)\n",
        "data = {\n",
        "    'Client_ID': ['Anonymized_Client_' + str(i) for i in range(1, 101)],\n",
        "    'Transaction_Amount': np.random.randint(100, 1000, size=100),\n",
        "    'Transaction_Date': pd.date_range(start='2023-01-01', periods=100, freq='D').tolist(),\n",
        "    'Category': np.random.choice(['Food', 'Clothing', 'Electronics', 'Transportation'], size=100)\n",
        "}\n",
        "\n",
        "df = pd.DataFrame(data)\n",
        "\n",
        "# Pseudonymization: Replace actual client IDs with anonymized values\n",
        "df['Client_ID'] = df['Client_ID'].apply(lambda x: x.replace('Client_', 'Anonymized_Client_'))\n",
        "\n",
        "# Data Minimization: Keep only necessary columns for the dashboard\n",
        "required_columns = ['Client_ID', 'Transaction_Amount', 'Category']\n",
        "df = df[required_columns]\n",
        "\n",
        "app = dash.Dash(__name__)\n",
        "\n",
        "app.layout = html.Div(children=[\n",
        "    html.H1(children='Financial Analytics Dashboard (GDPR Compliant)'),\n",
        "\n",
        "    dcc.Dropdown(\n",
        "        id='client-dropdown',\n",
        "        options=[{'label': i, 'value': i} for i in df['Client_ID'].unique()],\n",
        "        value=df['Client_ID'].unique()[0]\n",
        "    ),\n",
        "\n",
        "    dcc.Graph(id='transaction-amount-graph'),\n",
        "\n",
        "    dcc.Graph(id='category-pie-chart')\n",
        "])\n",
        "\n",
        "@app.callback(\n",
        "    [Output('transaction-amount-graph', 'figure'),\n",
        "     Output('category-pie-chart', 'figure')],\n",
        "    [Input('client-dropdown', 'value')]\n",
        ")\n",
        "def update_graphs(selected_client):\n",
        "    # Filter data for the selected client\n",
        "    filtered_df = df[df['Client_ID'] == selected_client]\n",
        "\n",
        "    # Create figures\n",
        "    fig1 = px.line(filtered_df, x='Transaction_Date', y='Transaction_Amount', title=\"Transaction Amount over Time\")\n",
        "    fig2 = px.pie(filtered_df, names='Category', values='Transaction_Amount', title=\"Transaction Category Breakdown\")\n",
        "\n",
        "    # Securely handle sensitive data by not exposing it in the figure traces\n",
        "    fig1.update_traces(textinfo='none')\n",
        "    fig2.update_traces(textinfo='percent+label')\n",
        "\n",
        "    return fig1, fig2\n",
        "\n",
        "if __name__ == '__main__':\n",
        "    app.run_server(debug=True)"
      ],
      "metadata": {
        "colab": {
          "base_uri": "https://localhost:8080/",
          "height": 671
        },
        "id": "VQYngfsAuIpk",
        "outputId": "480852b7-9c6d-4054-fbcc-2a281a444777"
      },
      "execution_count": null,
      "outputs": [
        {
          "output_type": "display_data",
          "data": {
            "text/plain": [
              "<IPython.core.display.Javascript object>"
            ],
            "application/javascript": [
              "(async (port, path, width, height, cache, element) => {\n",
              "    if (!google.colab.kernel.accessAllowed && !cache) {\n",
              "      return;\n",
              "    }\n",
              "    element.appendChild(document.createTextNode(''));\n",
              "    const url = await google.colab.kernel.proxyPort(port, {cache});\n",
              "    const iframe = document.createElement('iframe');\n",
              "    iframe.src = new URL(path, url).toString();\n",
              "    iframe.height = height;\n",
              "    iframe.width = width;\n",
              "    iframe.style.border = 0;\n",
              "    iframe.allow = [\n",
              "        'accelerometer',\n",
              "        'autoplay',\n",
              "        'camera',\n",
              "        'clipboard-read',\n",
              "        'clipboard-write',\n",
              "        'gyroscope',\n",
              "        'magnetometer',\n",
              "        'microphone',\n",
              "        'serial',\n",
              "        'usb',\n",
              "        'xr-spatial-tracking',\n",
              "    ].join('; ');\n",
              "    element.appendChild(iframe);\n",
              "  })(8050, \"/\", \"100%\", 650, false, window.element)"
            ]
          },
          "metadata": {}
        }
      ]
    },
    {
      "cell_type": "markdown",
      "source": [
        "Turn2 Model A"
      ],
      "metadata": {
        "id": "llbNgzKMuLOK"
      }
    },
    {
      "cell_type": "code",
      "source": [
        "import pandas as pd\n",
        "import numpy as np\n",
        "import plotly.express as px\n",
        "import dash\n",
        "from dash import dcc\n",
        "from dash import html\n",
        "from dash.dependencies import Input, Output\n",
        "import hashlib\n",
        "\n",
        "# Mock data with sensitive information\n",
        "mock_data = {\n",
        "\t'Customer_Name': ['Alice', 'Bob', 'Charlie', 'David', 'Emma'],\n",
        "\t'Account_Number': ['12345', '67890', '24680', '13579', '09876'],\n",
        "\t'Transaction_Amount': [100.00, 50.00, 200.00, 75.00, 120.00],\n",
        "\t'Transaction_Date': ['2023-07-20', '2023-07-21', '2023-07-18', '2023-07-22', '2023-07-19'],\n",
        "\t'Category': ['Groceries', 'Utilities', 'Electronics', 'Transportation', 'Clothing']\n",
        "}\n",
        "\n",
        "df = pd.DataFrame(mock_data)\n",
        "\n",
        "def anonymize_data(dataframe, column_to_anonymize):\n",
        "\t\"\"\"\n",
        "\tPseudonymize data in a specified column using SHA-256 hashing.\n",
        "\t\"\"\"\n",
        "\tanonymized_data = dataframe.copy()\n",
        "\tanonymized_data[column_to_anonymize] = anonymized_data[column_to_anonymize].apply(lambda x: hashlib.sha256(str(x).encode('utf-8')).hexdigest())\n",
        "\treturn anonymized_data\n",
        "\n",
        "# Anonymize sensitive data\n",
        "df = anonymize_data(df, 'Customer_Name')\n",
        "df = anonymize_data(df, 'Account_Number')\n",
        "\n",
        "required_columns = ['Customer_Name', 'Transaction_Amount', 'Category']\n",
        "df = df[required_columns]\n",
        "\n",
        "app = dash.Dash(__name__)\n",
        "\n",
        "app.layout = html.Div(children=[\n",
        "\thtml.H1(children='Financial Analytics Dashboard (GDPR Compliant)'),\n",
        "\n",
        "\tdcc.Graph(\n",
        "\t\tid='transaction-amount-chart',\n",
        "\t\tfigure={\n",
        "\t\t\t'data': [\n",
        "\t\t\t\tgo.Bar(\n",
        "\t\t\t\t\tx=df['Customer_Name'],\n",
        "\t\t\t\t\ty=df['Transaction_Amount'],\n",
        "\t\t\t\t\tmarker_color='rgb(0, 128, 0)',\n",
        "\t\t\t\t\tname='Transaction Amount'\n",
        "\t\t\t\t)\n",
        "\t\t\t],\n",
        "\t\t\t'layout': go.Layout(\n",
        "\t\t\t\ttitle='Transaction Amount by Customer',\n",
        "\t\t\t\txaxis={'title': 'Customer'},\n",
        "\t\t\t\tyaxis={'title': 'Transaction Amount'}\n",
        "\t\t\t)\n",
        "\t\t}\n",
        "\t),\n",
        "\n",
        "\tdcc.Graph(\n",
        "\t\tid='category-pie-chart',\n",
        "\t\tfigure={\n",
        "\t\t\t'data': [\n",
        "\t\t\t\tgo.Pie(\n",
        "\t\t\t\t\tlabels=df['Category'],\n",
        "\t\t\t\t\tvalues=df['Transaction_Amount'],\n",
        "\t\t\t\t\thole=.3\n",
        "\t\t\t\t)\n",
        "\t\t\t],\n",
        "\t\t\t'layout': go.Layout(\n",
        "\t\t\t\ttitle='Transaction Category Breakdown'\n",
        "\t\t\t)\n",
        "\t\t}\n",
        "\t)\n",
        "])\n",
        "\n",
        "if __name__ == '__main__':\n",
        "\tapp.run_server(debug=True)\n",
        "print(\"model b run successfully\")"
      ],
      "metadata": {
        "colab": {
          "base_uri": "https://localhost:8080/",
          "height": 689
        },
        "id": "NZJXuYd9uQLb",
        "outputId": "d04f68f9-efae-4776-b6ec-3e80a909afa5"
      },
      "execution_count": null,
      "outputs": [
        {
          "output_type": "display_data",
          "data": {
            "text/plain": [
              "<IPython.core.display.Javascript object>"
            ],
            "application/javascript": [
              "(async (port, path, width, height, cache, element) => {\n",
              "    if (!google.colab.kernel.accessAllowed && !cache) {\n",
              "      return;\n",
              "    }\n",
              "    element.appendChild(document.createTextNode(''));\n",
              "    const url = await google.colab.kernel.proxyPort(port, {cache});\n",
              "    const iframe = document.createElement('iframe');\n",
              "    iframe.src = new URL(path, url).toString();\n",
              "    iframe.height = height;\n",
              "    iframe.width = width;\n",
              "    iframe.style.border = 0;\n",
              "    iframe.allow = [\n",
              "        'accelerometer',\n",
              "        'autoplay',\n",
              "        'camera',\n",
              "        'clipboard-read',\n",
              "        'clipboard-write',\n",
              "        'gyroscope',\n",
              "        'magnetometer',\n",
              "        'microphone',\n",
              "        'serial',\n",
              "        'usb',\n",
              "        'xr-spatial-tracking',\n",
              "    ].join('; ');\n",
              "    element.appendChild(iframe);\n",
              "  })(8050, \"/\", \"100%\", 650, false, window.element)"
            ]
          },
          "metadata": {}
        },
        {
          "output_type": "stream",
          "name": "stdout",
          "text": [
            "model b run successfully\n"
          ]
        }
      ]
    },
    {
      "cell_type": "markdown",
      "source": [
        "Turn2 Model B"
      ],
      "metadata": {
        "id": "e2nwr2RFuQ7d"
      }
    },
    {
      "cell_type": "code",
      "source": [
        "import pandas as pd\n",
        "import numpy as np\n",
        "import plotly.graph_objs as go\n",
        "import dash\n",
        "from dash import dcc\n",
        "from dash import html\n",
        "from dash.dependencies import Input, Output\n",
        "from sklearn.preprocessing import LabelEncoder\n",
        "\n",
        "# Mock data with sensitive information\n",
        "np.random.seed(0)\n",
        "data = {\n",
        "    'Full_Name': ['Alice Johnson', 'Bob Smith', 'Charlie Davis'] * 33 + ['David Miller'] * 34,\n",
        "    'Account_Number': ['A123', 'B456', 'C789'] * 100,\n",
        "    'Transaction_Amount': np.random.randint(10, 1000, size=100),\n",
        "    'Transaction_Date': pd.date_range(start='2023-01-01', periods=100, freq='D').tolist(),\n",
        "    'Category': np.random.choice(['Food', 'Clothing', 'Electronics', 'Transportation'], size=100)\n",
        "}\n",
        "\n",
        "df = pd.DataFrame(data)\n",
        "\n",
        "### Secure Data Processing:\n",
        "\n",
        "# Anonymize sensitive data by hashing or encrypting (not shown in this example for simplicity)\n",
        "\n",
        "# Pseudonymize user data using Label Encoding\n",
        "labelencoder = LabelEncoder()\n",
        "df['Anonymized_Client_ID'] = labelencoder.fit_transform(df['Full_Name'])\n",
        "\n",
        "# Drop the original sensitive columns\n",
        "df = df.drop(columns=['Full_Name', 'Account_Number'])\n",
        "\n",
        "app = dash.Dash(__name__)\n",
        "\n",
        "app.layout = html.Div(children=[\n",
        "    html.H1(children='Financial Analytics Dashboard (GDPR Compliant)'),\n",
        "\n",
        "    dcc.Dropdown(\n",
        "        id='client-dropdown',\n",
        "        options=[{'label': f'Anonymized Client {i}', 'value': i} for i in df['Anonymized_Client_ID'].unique()],\n",
        "        value=df['Anonymized_Client_ID'].unique()[0]\n",
        "    ),\n",
        "\n",
        "    dcc.Graph(id='transaction-summary-graph'),\n",
        "])\n",
        "\n",
        "@app.callback(\n",
        "    Output('transaction-summary-graph', 'figure'),\n",
        "    [Input('client-dropdown', 'value')]\n",
        ")\n",
        "def update_graph(selected_client):\n",
        "    # Filter data for the selected anonymized client\n",
        "    filtered_df = df[df['Anonymized_Client_ID'] == selected_client]\n",
        "\n",
        "    # Aggregate data for summary graph\n",
        "    aggregated_df = filtered_df.groupby('Category').agg({'Transaction_Amount': ['sum', 'count']}).reset_index()\n",
        "    aggregated_df.columns = aggregated_df.columns.map('_'.join)\n",
        "\n",
        "    # Create the figure\n",
        "    fig = go.Figure()\n",
        "    fig.add_trace(go.Bar(x=aggregated_df['Category'], y=aggregated_df['Transaction_Amount_sum'],\n",
        "                         name='Total Transaction Amount', marker_color='rgb(0, 128, 0)'))\n",
        "    fig.add_trace(go.Bar(x=aggregated_df['Category'], y=aggregated_df['Transaction_Amount_count'],\n",
        "                         name='Number of Transactions', marker_color='rgb(255, 140, 0)'))\n",
        "\n",
        "    fig.update_layout(title=\"Transaction Summary by Category\", barmode='group', xaxis_title=\"Category\", yaxis_title=\"Amount/Count\")\n",
        "\n",
        "    # Securely handle sensitive data by not exposing it in the figure traces or axis labels\n",
        "    fig.update_traces(textinfo='none')\n",
        "    fig.update_xaxes(ticktext=[], tickvals=[])\n",
        "\n",
        "    return fig\n",
        "\n",
        "if __name__ == '__main__':\n",
        "    app.run_server(debug=True)"
      ],
      "metadata": {
        "colab": {
          "base_uri": "https://localhost:8080/",
          "height": 365
        },
        "id": "W_unePFCuWpo",
        "outputId": "b2e98811-61e1-4073-f045-b3d4e2e0e9a6"
      },
      "execution_count": null,
      "outputs": [
        {
          "output_type": "error",
          "ename": "ValueError",
          "evalue": "All arrays must be of the same length",
          "traceback": [
            "\u001b[0;31m---------------------------------------------------------------------------\u001b[0m",
            "\u001b[0;31mValueError\u001b[0m                                Traceback (most recent call last)",
            "\u001b[0;32m<ipython-input-4-7394f8f4072d>\u001b[0m in \u001b[0;36m<cell line: 20>\u001b[0;34m()\u001b[0m\n\u001b[1;32m     18\u001b[0m }\n\u001b[1;32m     19\u001b[0m \u001b[0;34m\u001b[0m\u001b[0m\n\u001b[0;32m---> 20\u001b[0;31m \u001b[0mdf\u001b[0m \u001b[0;34m=\u001b[0m \u001b[0mpd\u001b[0m\u001b[0;34m.\u001b[0m\u001b[0mDataFrame\u001b[0m\u001b[0;34m(\u001b[0m\u001b[0mdata\u001b[0m\u001b[0;34m)\u001b[0m\u001b[0;34m\u001b[0m\u001b[0;34m\u001b[0m\u001b[0m\n\u001b[0m\u001b[1;32m     21\u001b[0m \u001b[0;34m\u001b[0m\u001b[0m\n\u001b[1;32m     22\u001b[0m \u001b[0;31m### Secure Data Processing:\u001b[0m\u001b[0;34m\u001b[0m\u001b[0;34m\u001b[0m\u001b[0m\n",
            "\u001b[0;32m/usr/local/lib/python3.10/dist-packages/pandas/core/frame.py\u001b[0m in \u001b[0;36m__init__\u001b[0;34m(self, data, index, columns, dtype, copy)\u001b[0m\n\u001b[1;32m    776\u001b[0m         \u001b[0;32melif\u001b[0m \u001b[0misinstance\u001b[0m\u001b[0;34m(\u001b[0m\u001b[0mdata\u001b[0m\u001b[0;34m,\u001b[0m \u001b[0mdict\u001b[0m\u001b[0;34m)\u001b[0m\u001b[0;34m:\u001b[0m\u001b[0;34m\u001b[0m\u001b[0;34m\u001b[0m\u001b[0m\n\u001b[1;32m    777\u001b[0m             \u001b[0;31m# GH#38939 de facto copy defaults to False only in non-dict cases\u001b[0m\u001b[0;34m\u001b[0m\u001b[0;34m\u001b[0m\u001b[0m\n\u001b[0;32m--> 778\u001b[0;31m             \u001b[0mmgr\u001b[0m \u001b[0;34m=\u001b[0m \u001b[0mdict_to_mgr\u001b[0m\u001b[0;34m(\u001b[0m\u001b[0mdata\u001b[0m\u001b[0;34m,\u001b[0m \u001b[0mindex\u001b[0m\u001b[0;34m,\u001b[0m \u001b[0mcolumns\u001b[0m\u001b[0;34m,\u001b[0m \u001b[0mdtype\u001b[0m\u001b[0;34m=\u001b[0m\u001b[0mdtype\u001b[0m\u001b[0;34m,\u001b[0m \u001b[0mcopy\u001b[0m\u001b[0;34m=\u001b[0m\u001b[0mcopy\u001b[0m\u001b[0;34m,\u001b[0m \u001b[0mtyp\u001b[0m\u001b[0;34m=\u001b[0m\u001b[0mmanager\u001b[0m\u001b[0;34m)\u001b[0m\u001b[0;34m\u001b[0m\u001b[0;34m\u001b[0m\u001b[0m\n\u001b[0m\u001b[1;32m    779\u001b[0m         \u001b[0;32melif\u001b[0m \u001b[0misinstance\u001b[0m\u001b[0;34m(\u001b[0m\u001b[0mdata\u001b[0m\u001b[0;34m,\u001b[0m \u001b[0mma\u001b[0m\u001b[0;34m.\u001b[0m\u001b[0mMaskedArray\u001b[0m\u001b[0;34m)\u001b[0m\u001b[0;34m:\u001b[0m\u001b[0;34m\u001b[0m\u001b[0;34m\u001b[0m\u001b[0m\n\u001b[1;32m    780\u001b[0m             \u001b[0;32mfrom\u001b[0m \u001b[0mnumpy\u001b[0m\u001b[0;34m.\u001b[0m\u001b[0mma\u001b[0m \u001b[0;32mimport\u001b[0m \u001b[0mmrecords\u001b[0m\u001b[0;34m\u001b[0m\u001b[0;34m\u001b[0m\u001b[0m\n",
            "\u001b[0;32m/usr/local/lib/python3.10/dist-packages/pandas/core/internals/construction.py\u001b[0m in \u001b[0;36mdict_to_mgr\u001b[0;34m(data, index, columns, dtype, typ, copy)\u001b[0m\n\u001b[1;32m    501\u001b[0m             \u001b[0marrays\u001b[0m \u001b[0;34m=\u001b[0m \u001b[0;34m[\u001b[0m\u001b[0mx\u001b[0m\u001b[0;34m.\u001b[0m\u001b[0mcopy\u001b[0m\u001b[0;34m(\u001b[0m\u001b[0;34m)\u001b[0m \u001b[0;32mif\u001b[0m \u001b[0mhasattr\u001b[0m\u001b[0;34m(\u001b[0m\u001b[0mx\u001b[0m\u001b[0;34m,\u001b[0m \u001b[0;34m\"dtype\"\u001b[0m\u001b[0;34m)\u001b[0m \u001b[0;32melse\u001b[0m \u001b[0mx\u001b[0m \u001b[0;32mfor\u001b[0m \u001b[0mx\u001b[0m \u001b[0;32min\u001b[0m \u001b[0marrays\u001b[0m\u001b[0;34m]\u001b[0m\u001b[0;34m\u001b[0m\u001b[0;34m\u001b[0m\u001b[0m\n\u001b[1;32m    502\u001b[0m \u001b[0;34m\u001b[0m\u001b[0m\n\u001b[0;32m--> 503\u001b[0;31m     \u001b[0;32mreturn\u001b[0m \u001b[0marrays_to_mgr\u001b[0m\u001b[0;34m(\u001b[0m\u001b[0marrays\u001b[0m\u001b[0;34m,\u001b[0m \u001b[0mcolumns\u001b[0m\u001b[0;34m,\u001b[0m \u001b[0mindex\u001b[0m\u001b[0;34m,\u001b[0m \u001b[0mdtype\u001b[0m\u001b[0;34m=\u001b[0m\u001b[0mdtype\u001b[0m\u001b[0;34m,\u001b[0m \u001b[0mtyp\u001b[0m\u001b[0;34m=\u001b[0m\u001b[0mtyp\u001b[0m\u001b[0;34m,\u001b[0m \u001b[0mconsolidate\u001b[0m\u001b[0;34m=\u001b[0m\u001b[0mcopy\u001b[0m\u001b[0;34m)\u001b[0m\u001b[0;34m\u001b[0m\u001b[0;34m\u001b[0m\u001b[0m\n\u001b[0m\u001b[1;32m    504\u001b[0m \u001b[0;34m\u001b[0m\u001b[0m\n\u001b[1;32m    505\u001b[0m \u001b[0;34m\u001b[0m\u001b[0m\n",
            "\u001b[0;32m/usr/local/lib/python3.10/dist-packages/pandas/core/internals/construction.py\u001b[0m in \u001b[0;36marrays_to_mgr\u001b[0;34m(arrays, columns, index, dtype, verify_integrity, typ, consolidate)\u001b[0m\n\u001b[1;32m    112\u001b[0m         \u001b[0;31m# figure out the index, if necessary\u001b[0m\u001b[0;34m\u001b[0m\u001b[0;34m\u001b[0m\u001b[0m\n\u001b[1;32m    113\u001b[0m         \u001b[0;32mif\u001b[0m \u001b[0mindex\u001b[0m \u001b[0;32mis\u001b[0m \u001b[0;32mNone\u001b[0m\u001b[0;34m:\u001b[0m\u001b[0;34m\u001b[0m\u001b[0;34m\u001b[0m\u001b[0m\n\u001b[0;32m--> 114\u001b[0;31m             \u001b[0mindex\u001b[0m \u001b[0;34m=\u001b[0m \u001b[0m_extract_index\u001b[0m\u001b[0;34m(\u001b[0m\u001b[0marrays\u001b[0m\u001b[0;34m)\u001b[0m\u001b[0;34m\u001b[0m\u001b[0;34m\u001b[0m\u001b[0m\n\u001b[0m\u001b[1;32m    115\u001b[0m         \u001b[0;32melse\u001b[0m\u001b[0;34m:\u001b[0m\u001b[0;34m\u001b[0m\u001b[0;34m\u001b[0m\u001b[0m\n\u001b[1;32m    116\u001b[0m             \u001b[0mindex\u001b[0m \u001b[0;34m=\u001b[0m \u001b[0mensure_index\u001b[0m\u001b[0;34m(\u001b[0m\u001b[0mindex\u001b[0m\u001b[0;34m)\u001b[0m\u001b[0;34m\u001b[0m\u001b[0;34m\u001b[0m\u001b[0m\n",
            "\u001b[0;32m/usr/local/lib/python3.10/dist-packages/pandas/core/internals/construction.py\u001b[0m in \u001b[0;36m_extract_index\u001b[0;34m(data)\u001b[0m\n\u001b[1;32m    675\u001b[0m         \u001b[0mlengths\u001b[0m \u001b[0;34m=\u001b[0m \u001b[0mlist\u001b[0m\u001b[0;34m(\u001b[0m\u001b[0mset\u001b[0m\u001b[0;34m(\u001b[0m\u001b[0mraw_lengths\u001b[0m\u001b[0;34m)\u001b[0m\u001b[0;34m)\u001b[0m\u001b[0;34m\u001b[0m\u001b[0;34m\u001b[0m\u001b[0m\n\u001b[1;32m    676\u001b[0m         \u001b[0;32mif\u001b[0m \u001b[0mlen\u001b[0m\u001b[0;34m(\u001b[0m\u001b[0mlengths\u001b[0m\u001b[0;34m)\u001b[0m \u001b[0;34m>\u001b[0m \u001b[0;36m1\u001b[0m\u001b[0;34m:\u001b[0m\u001b[0;34m\u001b[0m\u001b[0;34m\u001b[0m\u001b[0m\n\u001b[0;32m--> 677\u001b[0;31m             \u001b[0;32mraise\u001b[0m \u001b[0mValueError\u001b[0m\u001b[0;34m(\u001b[0m\u001b[0;34m\"All arrays must be of the same length\"\u001b[0m\u001b[0;34m)\u001b[0m\u001b[0;34m\u001b[0m\u001b[0;34m\u001b[0m\u001b[0m\n\u001b[0m\u001b[1;32m    678\u001b[0m \u001b[0;34m\u001b[0m\u001b[0m\n\u001b[1;32m    679\u001b[0m         \u001b[0;32mif\u001b[0m \u001b[0mhave_dicts\u001b[0m\u001b[0;34m:\u001b[0m\u001b[0;34m\u001b[0m\u001b[0;34m\u001b[0m\u001b[0m\n",
            "\u001b[0;31mValueError\u001b[0m: All arrays must be of the same length"
          ]
        }
      ]
    }
  ]
}